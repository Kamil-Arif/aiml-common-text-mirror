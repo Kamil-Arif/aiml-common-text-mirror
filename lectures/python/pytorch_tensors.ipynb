{
 "cells": [
  {
   "attachments": {},
   "cell_type": "markdown",
   "metadata": {},
   "source": [
    "# Tensors with PyTorch\n",
    "\n",
    "There are many libraries that can be used to work with tensors. Here we will use [PyTorch](https://pytorch.org) a Python library for deep learning. It is based on the Torch library, which was developed by Facebook's AI Research lab (FAIR) - now Meta. PyTorch is a Python package that provides two high-level features:\n",
    "\n",
    "1. Tensor computation (like NumPy) with strong GPU acceleration\n",
    "\n",
    "2. Deep neural networks built on a tape-based autograd system\n",
    "\n",
    "Note that JAX is also a good alternative to PyTorch and is used in the [Flax](https://flax.readthedocs.io/en/latest/) library. It offers a numpy API and offers autograd capabilities (see the  backpropagation chapter). JAX enforces functional programming and is more suitable for research and prototyping."
   ]
  },
  {
   "attachments": {},
   "cell_type": "markdown",
   "metadata": {},
   "source": [
    "In this notebook we will learn how to use and manipulate [Pytorch tensors](https://pytorch.org/docs/stable/tensors.html). We will also learn how to use the GPU to accelerate our computations. "
   ]
  },
  {
   "cell_type": "code",
   "execution_count": 2,
   "metadata": {},
   "outputs": [],
   "source": [
    "import torch\n",
    "from PIL import Image\n",
    "import requests\n",
    "from torchvision.io import read_image\n",
    "import torchvision.transforms as transforms\n"
   ]
  },
  {
   "attachments": {},
   "cell_type": "markdown",
   "metadata": {},
   "source": [
    "Lets create a tensor of a certian shape and see what is its type and the reported type for one of its elements.  "
   ]
  },
  {
   "cell_type": "code",
   "execution_count": 3,
   "metadata": {},
   "outputs": [
    {
     "name": "stdout",
     "output_type": "stream",
     "text": [
      "tensor([1., 1., 1., 1., 1., 1., 1., 1., 1., 1., 1., 1., 1., 1., 1., 1., 1., 1.,\n",
      "        1., 1., 1., 1., 1., 1., 1., 1., 1., 1., 1., 1., 1., 1., 1., 1., 1., 1.,\n",
      "        1., 1., 1., 1., 1., 1., 1., 1., 1., 1., 1., 1., 1., 1., 1., 1., 1., 1.,\n",
      "        1., 1., 1., 1., 1., 1., 1., 1., 1., 1., 1., 1., 1., 1., 1., 1., 1., 1.,\n",
      "        1., 1., 1., 1., 1., 1., 1., 1., 1., 1., 1., 1., 1., 1., 1., 1., 1., 1.,\n",
      "        1., 1., 1., 1., 1., 1., 1., 1., 1., 1.])\n",
      "type of x: <class 'torch.Tensor'>\n",
      "shape of x: torch.Size([100])\n",
      "type of x[0]: <class 'torch.Tensor'>\n"
     ]
    }
   ],
   "source": [
    "n = 100\n",
    "x = torch.ones(n)\n",
    "print(x)\n",
    "print('type of x:', type(x))\n",
    "print('shape of x:', x.shape)\n",
    "print('type of x[0]:', type(x[0]))\n"
   ]
  },
  {
   "attachments": {},
   "cell_type": "markdown",
   "metadata": {},
   "source": [
    "A tensor of specific data type can be constructed by passing a torch.dtype. Note that the default data type is `torch.float32` and the dynamic range of the tensor elements that we create can have a profound effect on both the computational efficiency and performance of models we create.  \n"
   ]
  },
  {
   "cell_type": "code",
   "execution_count": 4,
   "metadata": {},
   "outputs": [
    {
     "data": {
      "text/plain": [
       "tensor([[0, 0, 0, 0],\n",
       "        [0, 0, 0, 0]], dtype=torch.int32)"
      ]
     },
     "execution_count": 4,
     "metadata": {},
     "output_type": "execute_result"
    }
   ],
   "source": [
    "torch.zeros([2, 4], dtype=torch.int32)"
   ]
  },
  {
   "attachments": {},
   "cell_type": "markdown",
   "metadata": {},
   "source": [
    "We can also instantiate a tensor in either in the RAM of our host  or straight into the RAM of an  accelerator that the host has access to. "
   ]
  },
  {
   "cell_type": "code",
   "execution_count": 5,
   "metadata": {},
   "outputs": [
    {
     "data": {
      "text/plain": [
       "tensor([[1., 2., 3.],\n",
       "        [4., 5., 6.]], device='cuda:0', dtype=torch.float64)"
      ]
     },
     "execution_count": 5,
     "metadata": {},
     "output_type": "execute_result"
    }
   ],
   "source": [
    "cuda0 = torch.device('cuda:0')\n",
    "x = torch.tensor([[1, 2, 3], [4, 5, 6]], dtype=torch.float64, device=cuda0)\n",
    "x"
   ]
  },
  {
   "attachments": {},
   "cell_type": "markdown",
   "metadata": {},
   "source": [
    "## Slicing operations"
   ]
  },
  {
   "cell_type": "code",
   "execution_count": 6,
   "metadata": {},
   "outputs": [
    {
     "name": "stdout",
     "output_type": "stream",
     "text": [
      "tensor([2., 5.], device='cuda:0', dtype=torch.float64)\n",
      "tensor([4., 5., 6.], device='cuda:0', dtype=torch.float64)\n"
     ]
    }
   ],
   "source": [
    "print(x[:,1]) # get the 2nd column of x\n",
    "print(x[-1,:]) # get the last row of x"
   ]
  },
  {
   "attachments": {},
   "cell_type": "markdown",
   "metadata": {},
   "source": [
    "## Batch operations and images\n",
    "\n",
    "Note that the color channels are always on the 3rd dimension **from the end**. "
   ]
  },
  {
   "cell_type": "code",
   "execution_count": 7,
   "metadata": {},
   "outputs": [
    {
     "data": {
      "text/plain": [
       "torch.Size([2, 5, 5])"
      ]
     },
     "execution_count": 7,
     "metadata": {},
     "output_type": "execute_result"
    }
   ],
   "source": [
    "batch_t = torch.randn(2, 3, 5, 5) # shape [batch, channels, rows, columns]\n",
    "batch_gray_naive = batch_t.mean(-3)\n",
    "\n",
    "batch_gray_naive.shape"
   ]
  },
  {
   "cell_type": "code",
   "execution_count": 26,
   "metadata": {},
   "outputs": [
    {
     "name": "stdout",
     "output_type": "stream",
     "text": [
      "Number of channels: 3\n",
      "Number of height pixels: 424\n",
      "Number of width pixels: 640\n"
     ]
    }
   ],
   "source": [
    "# MS COCO image\n",
    "url = \"https://farm8.staticflickr.com/7399/8727969852_13c0f43ae9_z.jpg\"\n",
    "image = Image.open(requests.get(url, stream=True).raw)\n",
    "\n",
    "transform = transforms.Compose([\n",
    "transforms.PILToTensor()])\n",
    "\n",
    "torch_image = transform(image)\n",
    "torch_image.shape\n",
    "\n",
    "print('Number of channels:', torch_image.shape[-3])\n",
    "print('Number of height pixels:', torch_image.shape[-2])\n",
    "print('Number of width pixels:', torch_image.shape[-1])\n",
    "\n",
    "# average the image across the channels\n",
    "torch_image =  torch_image.float() \n",
    "torch_image /= 255.0\n",
    "\n",
    "# introduce batch dimension\n",
    "torch_image = torch_image.unsqueeze(0)\n",
    "\n",
    "torch_image.shape\n",
    "\n",
    "# means of each channel\n",
    "means = torch_image.mean(dim=(2,3))\n",
    "\n",
    "# var of each channel\n",
    "vars = torch_image.var(dim=(2,3))\n",
    "\n"
   ]
  }
 ],
 "metadata": {
  "kernelspec": {
   "display_name": ".venv",
   "language": "python",
   "name": "python3"
  },
  "language_info": {
   "codemirror_mode": {
    "name": "ipython",
    "version": 3
   },
   "file_extension": ".py",
   "mimetype": "text/x-python",
   "name": "python",
   "nbconvert_exporter": "python",
   "pygments_lexer": "ipython3",
   "version": "3.11.2"
  },
  "orig_nbformat": 4
 },
 "nbformat": 4,
 "nbformat_minor": 2
}

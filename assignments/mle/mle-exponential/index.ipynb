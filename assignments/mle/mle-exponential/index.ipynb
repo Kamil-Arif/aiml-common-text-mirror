{
 "cells": [
  {
   "attachments": {},
   "cell_type": "markdown",
   "metadata": {},
   "source": [
    "## Q-2(40 points):\n",
    "\n",
    "### A) 20 points\n",
    "Let X = amount of time (in minutes) a ice cream man gets a new customer at his cart. The time is known to have an exponential distribution with the average amount of time between a new customer being four minutes. \n",
    "\n",
    "Q-1 Plot the probablity density function of the exponential distribution of this ice cream man getting a customer every 4 minutes.\n",
    "\n",
    "You may use the Python libraries to calculate the exponential distribution and to plot. https://docs.scipy.org/doc/scipy/reference/generated/scipy.stats.expon.html\n",
    "\n",
    "\n",
    "### B) 20 points\n",
    "Now assume on a very hot day the ice cream man gets X customers and each new customer comes every 4 minutes. \n",
    "\n",
    "Q-1 Generate X samples from the exponential distribution where X = 200 and the rate = 4. \n",
    "\n",
    "Q-2 Plot the samples on a graph to show how they look graphically. Does it look similar to the graph above? "
   ]
  },
  {
   "attachments": {},
   "cell_type": "markdown",
   "metadata": {},
   "source": [
    "## Q-3 (30 points)\n",
    "\n",
    "Assume that you are given the customer data generated in Part 1, implement a Gradient Descent algorithm from scratch that will estimate the Exponential distribution according to the Maximum Likelihood criterion.\n",
    "\n",
    "Answer the following:\n",
    "\n",
    "1. Plot the negative log likelihood of the exponential distribution. (10 points)\n",
    "2. What is the lambda MLE of the generated data? (10 points)\n",
    "3. Plot the estimated lambda vs iterations to showcase convergence towards the true lambda (10 points)\n",
    "\n",
    "\n",
    "Read this article to obtain the likelihood and negative log likelihood function of the exponential distribution: https://www.statlect.com/fundamentals-of-statistics/exponential-distribution-maximum-likelihood\n"
   ]
  },
  {
   "cell_type": "code",
   "execution_count": null,
   "metadata": {},
   "outputs": [],
   "source": []
  }
 ],
 "metadata": {
  "kernelspec": {
   "display_name": "Python 3",
   "language": "python",
   "name": "python3"
  },
  "language_info": {
   "name": "python",
   "version": "3.10.9"
  },
  "orig_nbformat": 4,
  "vscode": {
   "interpreter": {
    "hash": "7d6993cb2f9ce9a59d5d7380609d9cb5192a9dedd2735a011418ad9e827eb538"
   }
  }
 },
 "nbformat": 4,
 "nbformat_minor": 2
}
